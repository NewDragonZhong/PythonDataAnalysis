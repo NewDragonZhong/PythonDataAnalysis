{
 "cells": [
  {
   "cell_type": "code",
   "execution_count": 1,
   "metadata": {
    "collapsed": true
   },
   "outputs": [
    {
     "data": {
      "text/plain": [
       "\"\\n数据准备: 全国2013-2016所有企业间的投融资信息数据\\n\\n1. 查看全国城际控股型投资关系(要求)\\n    -- 通过 data.xlsx 导出csv后，直接通过gephi查看全国投资情况，有什么发现？\\n    -- 分别筛选出“同城投资”、“跨城投资”的TOP20，比较一下两类投资的数据分布\\n        * 按照2013-2016年的汇总数据来计算\\n        * 分开比较 2013-2016 四个年度的数据\\n        * 需要绘制柱状图来辅助分析，这可以用matplotlib\\n    提示：\\n        * 原始数据中，同一年中的 投资数据会重复记录，所以需要将数据以 \\n            投资方所在城市，融资方所在城市，年份 这三个字段做一个分组汇总\\n        * 用df.plot(kind='bar')来绘制图表，这里index为城市名即可\\n        \\n2.2013-2016年 全国跨城资本流动情况(要求)\\n    -- 需要结合 中国城市代码对照表.xlsx 数据，给13-16年 跨城投资的汇总数据加上 城市经纬度\\n    -- 通过 13-16 年跨城投资的汇总数据，在echarts中绘制 城市关系图\\n        * 这里 gephi中点标签 只显示投资笔数 TOP20 的城市\\n    -- 通过 13-16 年跨城投资的汇总数据，在echarts中绘制 全国跨城资本流动OD图\\n        * 这里通过qgis的插件，做点转线\\n        * 通过echart制作最后的资本\\n        * 这里的line 的value为投资笔数\\n    提示：\\n        * gephi制图所需要导出的csv参考课程资料里的模板：边文件 ——> edge_model.csv;点文件 \\n          ——> node_model.csv(主要注意列名)\\n              * 其中的边数需要做标准化处理 ——> 0-1 之间\\n              * gephi中单独显示某些城市的点标签方法 ——> 导入数据后设置label，然后用\\n               label来显示标签，其中label只标注top20的数据\\n        * qgis中需要安装插件LinePlotter来转线\\n        * shapefile转geojson时 注意 shapefile保持wgs84地理坐标系\\n        \\n3.深挖跨城资本流动：钱从哪里来，到哪去？\\n    -- 近四年对外控股投资笔数最多的10个城市是那些？\\n    -- 近四年吸引对外控股投资笔数最多的10个城市又是那些？\\n    -- 从2013年到2016年，资本流动两大阵营的变化趋势：北上深阵营 - 本地化阵营\\n        * 北上深阵营：最大的投资方为 北上深之一的城市\\n        * 本地化阵营：这里简化计算，将非 北上深阵营 都划入 本地化阵营\\n        * 该问题从 北上深阵营 历年来数据占比来看\\n        * 可以qgis辅助绘制城市空间分布\\n    提示：\\n        * 资本流动两大阵营在计算中，主要以融资方所在城市 为对象研究\\n        * 资本流动两大阵营变化趋势计算中，可以构建函数，以年份为参数\\n        * 如何得到某年融资城市对应的最大的外来投资城市？\\n            -- 首先按照 融资方所在城市 做groupby分组 计算 投资企业对数 的 max 的到一个Series\\n            -- Series 转换成DataFrame (reset_index)\\n            -- 再通过源数据 merge 找到该融资城市 的最大外来投资对应的 投资方城市，这里merge中的\\n             参数 on = ['融资方所在城市','投资企业对数']\\n            -- 为了在qgis中制图，需要给数据添加经纬度信息，这里只需要添加融资方所在城市的 经纬度\\n            -- 为了qgis更好的识别阵营类型， 阵营两个字 用数字来表示 0 代表 本地化阵营 1代表 北上深阵营\\n            -- qgis中制图时，既不属于 本地化阵营 也不属于 北上深阵营 的城市 颜色填充和本地化阵营一样即可\\n    \\n\""
      ]
     },
     "execution_count": 1,
     "metadata": {},
     "output_type": "execute_result"
    }
   ],
   "source": [
    "'''\n",
    "数据准备: 全国2013-2016所有企业间的投融资信息数据\n",
    "\n",
    "1. 查看全国城际控股型投资关系(要求)\n",
    "    -- 通过 data.xlsx 导出csv后，直接通过gephi查看全国投资情况，有什么发现？\n",
    "    -- 分别筛选出“同城投资”、“跨城投资”的TOP20，比较一下两类投资的数据分布\n",
    "        * 按照2013-2016年的汇总数据来计算\n",
    "        * 分开比较 2013-2016 四个年度的数据\n",
    "        * 需要绘制柱状图来辅助分析，这可以用matplotlib\n",
    "    提示：\n",
    "        * 原始数据中，同一年中的 投资数据会重复记录，所以需要将数据以 \n",
    "            投资方所在城市，融资方所在城市，年份 这三个字段做一个分组汇总\n",
    "        * 用df.plot(kind='bar')来绘制图表，这里index为城市名即可\n",
    "        \n",
    "2.2013-2016年 全国跨城资本流动情况(要求)\n",
    "    -- 需要结合 中国城市代码对照表.xlsx 数据，给13-16年 跨城投资的汇总数据加上 城市经纬度\n",
    "    -- 通过 13-16 年跨城投资的汇总数据，在echarts中绘制 城市关系图\n",
    "        * 这里 gephi中点标签 只显示投资笔数 TOP20 的城市\n",
    "    -- 通过 13-16 年跨城投资的汇总数据，在echarts中绘制 全国跨城资本流动OD图\n",
    "        * 这里通过qgis的插件，做点转线\n",
    "        * 通过echart制作最后的资本\n",
    "        * 这里的line 的value为投资笔数\n",
    "    提示：\n",
    "        * gephi制图所需要导出的csv参考课程资料里的模板：边文件 ——> edge_model.csv;点文件 \n",
    "          ——> node_model.csv(主要注意列名)\n",
    "              * 其中的边数需要做标准化处理 ——> 0-1 之间\n",
    "              * gephi中单独显示某些城市的点标签方法 ——> 导入数据后设置label，然后用\n",
    "               label来显示标签，其中label只标注top20的数据\n",
    "        * qgis中需要安装插件LinePlotter来转线\n",
    "        * shapefile转geojson时 注意 shapefile保持wgs84地理坐标系\n",
    "        \n",
    "3.深挖跨城资本流动：钱从哪里来，到哪去？\n",
    "    -- 近四年对外控股投资笔数最多的10个城市是那些？\n",
    "    -- 近四年吸引对外控股投资笔数最多的10个城市又是那些？\n",
    "    -- 从2013年到2016年，资本流动两大阵营的变化趋势：北上深阵营 - 本地化阵营\n",
    "        * 北上深阵营：最大的投资方为 北上深之一的城市\n",
    "        * 本地化阵营：这里简化计算，将非 北上深阵营 都划入 本地化阵营\n",
    "        * 该问题从 北上深阵营 历年来数据占比来看\n",
    "        * 可以qgis辅助绘制城市空间分布\n",
    "    提示：\n",
    "        * 资本流动两大阵营在计算中，主要以融资方所在城市 为对象研究\n",
    "        * 资本流动两大阵营变化趋势计算中，可以构建函数，以年份为参数\n",
    "        * 如何得到某年融资城市对应的最大的外来投资城市？\n",
    "            -- 首先按照 融资方所在城市 做groupby分组 计算 投资企业对数 的 max 的到一个Series\n",
    "            -- Series 转换成DataFrame (reset_index)\n",
    "            -- 再通过源数据 merge 找到该融资城市 的最大外来投资对应的 投资方城市，这里merge中的\n",
    "             参数 on = ['融资方所在城市','投资企业对数']\n",
    "            -- 为了在qgis中制图，需要给数据添加经纬度信息，这里只需要添加融资方所在城市的 经纬度\n",
    "            -- 为了qgis更好的识别阵营类型， 阵营两个字 用数字来表示 0 代表 本地化阵营 1代表 北上深阵营\n",
    "            -- qgis中制图时，既不属于 本地化阵营 也不属于 北上深阵营 的城市 颜色填充和本地化阵营一样即可\n",
    "    \n",
    "'''"
   ]
  },
  {
   "cell_type": "code",
   "execution_count": 4,
   "metadata": {},
   "outputs": [],
   "source": [
    "'''\n",
    "前戏： 导包\n",
    "'''\n",
    "import numpy as np\n",
    "import pandas as pd\n",
    "from bokeh.plotting import figure,show,output_file\n",
    "from bokeh.models import ColumnDataSource,HoverTool\n",
    "import matplotlib.pyplot as plt\n",
    "%matplotlib inline\n",
    "\n",
    "import warnings  \n",
    "warnings.filterwarnings('ignore')  # 不需要警告"
   ]
  },
  {
   "cell_type": "code",
   "execution_count": 5,
   "metadata": {
    "collapsed": true
   },
   "outputs": [
    {
     "ename": "SyntaxError",
     "evalue": "(unicode error) 'unicodeescape' codec can't decode bytes in position 2-3: truncated \\xXX escape (<ipython-input-5-c2daa7823765>, line 15)",
     "output_type": "error",
     "traceback": [
      "\u001b[1;36m  File \u001b[1;32m\"<ipython-input-5-c2daa7823765>\"\u001b[1;36m, line \u001b[1;32m15\u001b[0m\n\u001b[1;33m    df = pd.read_excel('xx\\xx\\data.xlsx')\u001b[0m\n\u001b[1;37m                      ^\u001b[0m\n\u001b[1;31mSyntaxError\u001b[0m\u001b[1;31m:\u001b[0m (unicode error) 'unicodeescape' codec can't decode bytes in position 2-3: truncated \\xXX escape\n"
     ]
    }
   ],
   "source": [
    "'''\n",
    "1. 查看全国城际控股型投资关系(要求)\n",
    "    -- 通过 data.xlsx 导出csv后，直接通过gephi查看全国投资情况，有什么发现？\n",
    "    -- 分别筛选出“同城投资”、“跨城投资”的TOP20，比较一下两类投资的数据分布\n",
    "        * 按照2013-2016年的汇总数据来计算\n",
    "        * 分开比较 2013-2016 四个年度的数据\n",
    "        * 需要绘制柱状图来辅助分析，这可以用matplotlib\n",
    "    提示：\n",
    "        * 原始数据中，同一年中的 投资数据会重复记录，所以需要将数据以 \n",
    "            投资方所在城市，融资方所在城市，年份 这三个字段做一个分组汇总\n",
    "        * 用df.plot(kind='bar')来绘制图表，这里index为城市名即可\n",
    "'''\n",
    "\n",
    "# 读取数据，筛选 “同城投资”、“跨城投资”\n",
    "df = pd.read_excel('xx\\xx\\data.xlsx')\n",
    "df = df.groupby(['投资方所在城市','融资方所在城市','年份']).sum().reset_index()\n",
    "\n",
    "# 数据汇总 并且筛选出 同城投资 和 跨城投资\n",
    "data_tc = df[df['投资方所在城市'] == df['融资方所在城市']]\n",
    "data_tc = data_tc.sort_values(by='投资企业对数',ascending=False).reset_index()\n",
    "del data_tc['index']\n",
    "\n",
    "data_kc = df[df['投资方所在城市'] != df['融资方所在城市']]\n",
    "data_kc = data_kc.sort_values(by='投资企业对数',ascending=False).reset_index()\n",
    "del data_kc['index']\n",
    "\n",
    "# 比较一下 同城投资和跨城投资的 top20的数据分布\n",
    "tc_sum = data_tc.groupby(['投资方所在城市','融资方所在城市']).sum().sort_values(by='投资企业对数',ascending=False)\n",
    "del tc_sum['年份']  # 汇总同城投资数据\n",
    "\n",
    "kc_sum = data_kc.groupby(['投资方所在城市','融资方所在城市']).sum().sort_values(by='投资企业对数',ascending=False)\n",
    "del kc_sum['年份'] # 汇总跨城投资数据\n",
    "\n",
    "# 分开比较2013-2016的同城投资、跨城投资的数据\n",
    "def f1(year):\n",
    "    tc_year = data_tc[data_tc['年份']==year].sort_values(by='投资企业对数',ascending=False)\n",
    "    kc_year = data_kc[data_kc['年份']==year].sort_values(by='投资企业对数',ascending=False)\n",
    "    \n",
    "    tc_year.index = tc_year['投资方所在城市']\n",
    "    kc_year.index = kc_year['投资方所在城市'] + '-' + kc_year['融资方所在城市']\n",
    "    \n",
    "    return  (tc_year.iloc[:20],kc_year.iloc[:20])\n",
    "\n",
    "\n",
    "# 绘图\n",
    "fig,axes = plt.subplots(4,2,figsize=(12,15))\n",
    "plt.subplots_adjust(wspace=0.1,hspace=0.5)\n",
    "f1(2013)[0]['投资企业对数'].plot(kind='bar',grid=True,color='blue',alpha=0.7,\n",
    "                               ax = axes[0,0],title ='同城投资 - 2013年',ylim=[0,40000])\n",
    "f1(2013)[1]['投资企业对数'].plot(kind='bar',grid=True,color='green',alpha=0.7,\n",
    "                               ax = axes[0,1],title ='跨城投资 - 2013年',ylim=[0,3000])\n",
    "\n",
    "f1(2014)[0]['投资企业对数'].plot(kind='bar',grid=True,color='blue',alpha=0.7,\n",
    "                               ax = axes[0,0],title ='同城投资 - 2014年',ylim=[0,40000])\n",
    "f1(2014)[1]['投资企业对数'].plot(kind='bar',grid=True,color='green',alpha=0.7,\n",
    "                               ax = axes[0,1],title ='跨城投资 - 2014年',ylim=[0,3000])\n",
    "\n",
    "f1(2015)[0]['投资企业对数'].plot(kind='bar',grid=True,color='blue',alpha=0.7,\n",
    "                               ax = axes[0,0],title ='同城投资 - 2015年',ylim=[0,40000])\n",
    "f1(2015)[1]['投资企业对数'].plot(kind='bar',grid=True,color='green',alpha=0.7,\n",
    "                               ax = axes[0,1],title ='跨城投资 - 2015年',ylim=[0,3000])\n",
    "\n",
    "f1(2016)[0]['投资企业对数'].plot(kind='bar',grid=True,color='blue',alpha=0.7,\n",
    "                               ax = axes[0,0],title ='同城投资 - 2016年',ylim=[0,40000])\n",
    "f1(2016)[1]['投资企业对数'].plot(kind='bar',grid=True,color='green',alpha=0.7,\n",
    "                               ax = axes[0,1],title ='跨城投资 - 2016年',ylim=[0,3000])\n"
   ]
  },
  {
   "cell_type": "code",
   "execution_count": null,
   "metadata": {},
   "outputs": [],
   "source": [
    "'''\n",
    "2.2013-2016年 全国跨城资本流动情况(要求)\n",
    "    -- 需要结合 中国城市代码对照表.xlsx 数据，给13-16年 跨城投资的汇总数据加上 城市经纬度\n",
    "    -- 通过 13-16 年跨城投资的汇总数据，在echarts中绘制 城市关系图\n",
    "        * 这里 gephi中点标签 只显示投资笔数 TOP20 的城市\n",
    "    -- 通过 13-16 年跨城投资的汇总数据，在echarts中绘制 全国跨城资本流动OD图\n",
    "        * 这里通过qgis的插件，做点转线\n",
    "        * 通过echart制作最后的资本\n",
    "        * 这里的line 的value为投资笔数\n",
    "    提示：\n",
    "        * gephi制图所需要导出的csv参考课程资料里的模板：边文件 ——> edge_model.csv;点文件 \n",
    "          ——> node_model.csv(主要注意列名)\n",
    "              * 其中的边数需要做标准化处理 ——> 0-1 之间\n",
    "              * gephi中单独显示某些城市的点标签方法 ——> 导入数据后设置label，然后用\n",
    "               label来显示标签，其中label只标注top20的数据\n",
    "        * qgis中需要安装插件LinePlotter来转线\n",
    "        * shapefile转geojson时 注意 shapefile保持wgs84地理坐标系\n",
    "\n",
    "'''\n",
    "\n",
    "\n"
   ]
  }
 ],
 "metadata": {
  "kernelspec": {
   "display_name": "Python 3",
   "language": "python",
   "name": "python3"
  },
  "language_info": {
   "codemirror_mode": {
    "name": "ipython",
    "version": 3
   },
   "file_extension": ".py",
   "mimetype": "text/x-python",
   "name": "python",
   "nbconvert_exporter": "python",
   "pygments_lexer": "ipython3",
   "version": "3.6.1"
  }
 },
 "nbformat": 4,
 "nbformat_minor": 2
}
