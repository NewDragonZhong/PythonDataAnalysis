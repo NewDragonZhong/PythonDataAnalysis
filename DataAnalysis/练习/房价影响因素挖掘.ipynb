{
 "cells": [
  {
   "cell_type": "code",
   "execution_count": 1,
   "metadata": {
    "collapsed": true
   },
   "outputs": [
    {
     "data": {
      "text/plain": [
       "'\\n1.数据清洗、整合(要求)\\n    -- 将 house_rent \\\\ house_sell 分别读书\\n    -- 分别计算每平方米建筑面积的月租金、每平方米建筑面积的房价\\n    -- 将数据按照小区名合并\\n    提示:\\n        * 删除缺失值\\n        * 按照小区做均值分析\\n    \\n2.计算“房屋售租比”，并做初步判断(要求)\\n    -- 计算指标\\n    -- 绘制直方图\\n    提示：\\n        * 房屋售租比 = 每平方米建筑面积的房价 / 每平方米建筑面积的月租金\\n        * 直方图bins数量大于80来作图\\n        * 栗子：一个房子，100平,2万单价 ——> 200W 首付:60W 贷款 140W 贷30年 月供8300(按照最高的商贷利率 6.9% 计算) 本息合计大概是 300W\\n            -- 租金 8800, 20000/(8800/100) = 227\\n    结论：\\n        * 如果按照中位数725个月来看，假设从25岁研究生一毕业，就立刻全款买了这套房，然后放出去收租，那么大约85岁时，这60年来陆陆续续所收的租金\\n            -- 总数就可以达到25岁时买房所付的钱(不包括净现值折算的问题)\\n        * 如果仅靠租金收入的话，上海全市平均回收投资需要725个月。这种格局的维持，必须依赖于购房者对上海房价上升的持续预期\\n            -- 在上海投资房产绝不是利率收益，而是预期收益(其实城市越小租金回报反而越高)\\n        * 在上海绝大多数的房子房租收入跑不赢商贷利率，否则按照这个思路看肯定是买一个亏一个。\\n        \\n3.上海市人口密度、路网密度、餐饮价格 和 房屋每平米均价 是否有关系呢？(要求)\\n    -- 首先，导出整理好的数据，并qgis中绘制空间格网图，查看房屋每平米均价、房屋每平米租金 以及 售租比空间分布数据。\\n    -- 分别按照格网对人口密度、路网密度、餐饮价格进行指标统计 并 做标准化处理\\n    -- 加载上海中心点point空间数据，计算每个网格到市中心的距离\\n    -- 将空间网格的 房屋每平米均价 按照距市中心的距离排序，并制作散点图，看看能否挖掘出什么信息\\n    提示：\\n        * 导出csv数据，用dataframe.to_csv()\\n        * qgis加载数据后，以 net_population 为格网数据做空间统计\\n        * 注意 qgis 数据都为投影坐标系\\n        * 将以下数据导入python中，标准化得分至 0-1区间，\\n            -- 人口密度指标 (已有 net_population 数据)\\n            -- 路网密度指标 (以格网为空间单元，计算道路长度)\\n            -- 餐饮价格指标 (以格网为空间单元，计算餐饮设施的人均均价数据)\\n        * 导入数据后填充空值为0\\n        * qgis中可以用结果net 数据作为下一个分析数据，将此结果汇总到一张数据表内\\n        * 格网数据在导出前，先转为点数据，并计算经纬度，这里用投影经纬度，好依据中心点坐标计算离市中心距离\\n        \\n4. 按照离市中心的距离每10km，分别再次判断人口密度、路网密度、餐饮价格和 房屋每平米均价 的相关程度(要求)\\n    -- 按照空间距离 分别迭代计算三指标 和 房屋每平米均价 的关系\\n    -- 绘制折线图查看：随着城市中心距离增加，不同指标相关系数变化情况(建议用bokeh制图)\\n    提示：\\n        * 用for循环迭代空间距离，然后筛选数据并计算相关性\\n        * bokeh可以通过多次调用figure.line()来绘制多条折线图   \\n'"
      ]
     },
     "execution_count": 1,
     "metadata": {},
     "output_type": "execute_result"
    }
   ],
   "source": [
    "'''\n",
    "1.数据清洗、整合(要求)\n",
    "    -- 将 house_rent \\ house_sell 分别读书\n",
    "    -- 分别计算每平方米建筑面积的月租金、每平方米建筑面积的房价\n",
    "    -- 将数据按照小区名合并\n",
    "    提示:\n",
    "        * 删除缺失值\n",
    "        * 按照小区做均值分析\n",
    "    \n",
    "2.计算“房屋售租比”，并做初步判断(要求)\n",
    "    -- 计算指标\n",
    "    -- 绘制直方图\n",
    "    提示：\n",
    "        * 房屋售租比 = 每平方米建筑面积的房价 / 每平方米建筑面积的月租金\n",
    "        * 直方图bins数量大于80来作图\n",
    "        * 栗子：一个房子，100平,2万单价 ——> 200W 首付:60W 贷款 140W 贷30年 月供8300(按照最高的商贷利率 6.9% 计算) 本息合计大概是 300W\n",
    "            -- 租金 8800, 20000/(8800/100) = 227\n",
    "    结论：\n",
    "        * 如果按照中位数725个月来看，假设从25岁研究生一毕业，就立刻全款买了这套房，然后放出去收租，那么大约85岁时，这60年来陆陆续续所收的租金\n",
    "            -- 总数就可以达到25岁时买房所付的钱(不包括净现值折算的问题)\n",
    "        * 如果仅靠租金收入的话，上海全市平均回收投资需要725个月。这种格局的维持，必须依赖于购房者对上海房价上升的持续预期\n",
    "            -- 在上海投资房产绝不是利率收益，而是预期收益(其实城市越小租金回报反而越高)\n",
    "        * 在上海绝大多数的房子房租收入跑不赢商贷利率，否则按照这个思路看肯定是买一个亏一个。\n",
    "        \n",
    "3.上海市人口密度、路网密度、餐饮价格 和 房屋每平米均价 是否有关系呢？(要求)\n",
    "    -- 首先，导出整理好的数据，并qgis中绘制空间格网图，查看房屋每平米均价、房屋每平米租金 以及 售租比空间分布数据。\n",
    "    -- 分别按照格网对人口密度、路网密度、餐饮价格进行指标统计 并 做标准化处理\n",
    "    -- 加载上海中心点point空间数据，计算每个网格到市中心的距离\n",
    "    -- 将空间网格的 房屋每平米均价 按照距市中心的距离排序，并制作散点图，看看能否挖掘出什么信息\n",
    "    提示：\n",
    "        * 导出csv数据，用dataframe.to_csv()\n",
    "        * qgis加载数据后，以 net_population 为格网数据做空间统计\n",
    "        * 注意 qgis 数据都为投影坐标系\n",
    "        * 将以下数据导入python中，标准化得分至 0-1区间，\n",
    "            -- 人口密度指标 (已有 net_population 数据)\n",
    "            -- 路网密度指标 (以格网为空间单元，计算道路长度)\n",
    "            -- 餐饮价格指标 (以格网为空间单元，计算餐饮设施的人均均价数据)\n",
    "        * 导入数据后填充空值为0\n",
    "        * qgis中可以用结果net 数据作为下一个分析数据，将此结果汇总到一张数据表内\n",
    "        * 格网数据在导出前，先转为点数据，并计算经纬度，这里用投影经纬度，好依据中心点坐标计算离市中心距离\n",
    "        \n",
    "4. 按照离市中心的距离每10km，分别再次判断人口密度、路网密度、餐饮价格和 房屋每平米均价 的相关程度(要求)\n",
    "    -- 按照空间距离 分别迭代计算三指标 和 房屋每平米均价 的关系\n",
    "    -- 绘制折线图查看：随着城市中心距离增加，不同指标相关系数变化情况(建议用bokeh制图)\n",
    "    提示：\n",
    "        * 用for循环迭代空间距离，然后筛选数据并计算相关性\n",
    "        * bokeh可以通过多次调用figure.line()来绘制多条折线图   \n",
    "'''"
   ]
  },
  {
   "cell_type": "code",
   "execution_count": 2,
   "metadata": {},
   "outputs": [],
   "source": [
    "'''\n",
    " 前戏： 导入需要的包\n",
    "'''\n",
    "import numpy as np\n",
    "import pandas as pd\n",
    "import matplotlib.pyplot as plt\n",
    "from bokeh.plotting import figure,show,output_file\n",
    "from bokeh.models import ColumnDataSource\n",
    "import os\n",
    "\n",
    "#不发出警告\n",
    "import warnings\n",
    "warnings.filterwarnings('ignore')  \n"
   ]
  },
  {
   "cell_type": "code",
   "execution_count": 3,
   "metadata": {
    "collapsed": true
   },
   "outputs": [
    {
     "ename": "FileNotFoundError",
     "evalue": "[WinError 3] 系统找不到指定的路径。: 'xxx\\\\xxx'",
     "output_type": "error",
     "traceback": [
      "\u001b[1;31m---------------------------------------------------------------------------\u001b[0m",
      "\u001b[1;31mFileNotFoundError\u001b[0m                         Traceback (most recent call last)",
      "\u001b[1;32m<ipython-input-3-8c9730a2f911>\u001b[0m in \u001b[0;36m<module>\u001b[1;34m()\u001b[0m\n\u001b[0;32m     10\u001b[0m \u001b[1;33m\u001b[0m\u001b[0m\n\u001b[0;32m     11\u001b[0m \u001b[1;31m# 改变用户工作目录\u001b[0m\u001b[1;33m\u001b[0m\u001b[1;33m\u001b[0m\u001b[0m\n\u001b[1;32m---> 12\u001b[1;33m \u001b[0mos\u001b[0m\u001b[1;33m.\u001b[0m\u001b[0mchdir\u001b[0m\u001b[1;33m(\u001b[0m\u001b[1;34mr'xxx\\xxx'\u001b[0m\u001b[1;33m)\u001b[0m\u001b[1;33m\u001b[0m\u001b[0m\n\u001b[0m\u001b[0;32m     13\u001b[0m \u001b[1;33m\u001b[0m\u001b[0m\n\u001b[0;32m     14\u001b[0m \u001b[1;31m# 加载数据 并去除空值\u001b[0m\u001b[1;33m\u001b[0m\u001b[1;33m\u001b[0m\u001b[0m\n",
      "\u001b[1;31mFileNotFoundError\u001b[0m: [WinError 3] 系统找不到指定的路径。: 'xxx\\\\xxx'"
     ]
    }
   ],
   "source": [
    "'''\n",
    "1.数据清洗、整合(要求)\n",
    "    -- 将 house_rent \\ house_sell 分别读书\n",
    "    -- 分别计算每平方米建筑面积的月租金、每平方米建筑面积的房价\n",
    "    -- 将数据按照小区名合并\n",
    "    提示:\n",
    "        * 删除缺失值\n",
    "        * 按照小区做均值分析\n",
    "'''\n",
    "\n",
    "# 改变用户工作目录\n",
    "os.chdir(r'xxx\\xxx')\n",
    "\n",
    "# 加载数据 并去除空值\n",
    "df01 = pd.read_csv('house_rent.csv',engine='python')\n",
    "df02 = pd.read_csv('house_sell.csv',engine='python')\n",
    "df01.dropna(inplace=True)\n",
    "df02.dropna(inplace=True)\n",
    "\n",
    "# 计算指标并 按照租金 售价汇总\n",
    "df01['rent_area'] = df01['price'] / df['area']\n",
    "data_rent = df01[['community','rent_area','lng','lat']].groupby(by='community').mean()\n",
    "data_sell = df02[['property_name','average_price','lng','lat']].groupby(by='property_name').mean()\n",
    "\n",
    "data_rent.reset_index(inplace=True)\n",
    "data_sell.reset_index(inplace=True)\n",
    "\n",
    "# 汇总\n",
    "data = pd.merge(data_rent,data_sell,left_on='community',right_on='property_name',how='inner')\n",
    "# 修改列名\n",
    "data = data[['community','lng_x','lat_x','rent_area','average_price']]\n",
    "data.rename(columns = {'average_price':'sell_area','lng_x':'lng','lat_x':'lat'},inplace=True)\n",
    "\n",
    "\n"
   ]
  },
  {
   "cell_type": "code",
   "execution_count": 4,
   "metadata": {
    "collapsed": true
   },
   "outputs": [
    {
     "ename": "SyntaxError",
     "evalue": "invalid syntax (<ipython-input-4-a10421fef6b8>, line 17)",
     "output_type": "error",
     "traceback": [
      "\u001b[1;36m  File \u001b[1;32m\"<ipython-input-4-a10421fef6b8>\"\u001b[1;36m, line \u001b[1;32m17\u001b[0m\n\u001b[1;33m    data['sell_rent'].plot.box(vert=False,grid=True.figsize=(20,8))\u001b[0m\n\u001b[1;37m                                                           ^\u001b[0m\n\u001b[1;31mSyntaxError\u001b[0m\u001b[1;31m:\u001b[0m invalid syntax\n"
     ]
    }
   ],
   "source": [
    "'''\n",
    "2.计算“房屋售租比”，并做初步判断(要求)\n",
    "    -- 计算指标\n",
    "    -- 绘制直方图\n",
    "    提示：\n",
    "        * 房屋售租比 = 每平方米建筑面积的房价 / 每平方米建筑面积的月租金\n",
    "        * 直方图bins数量大于80来作图\n",
    "        * 栗子：一个房子，100平,2万单价 ——> 200W 首付:60W 贷款 140W 贷30年 月供8300(按照最高的商贷利率 6.9% 计算) 本息合计大概是 300W\n",
    "            -- 租金 8800, 20000/(8800/100) = 227\n",
    "'''\n",
    "\n",
    "# 计算房屋售租比\n",
    "data['sell_rent'] = data['sell_area'] / data['rent_area']\n",
    "print('上海房屋售租比的中位数为%i个月' % data['sell_rent'].median())\n",
    "\n",
    "# 绘制箱型图 (判断上海的房价大概是趋于那个比例)\n",
    "data['sell_rent'].plot.box(vert=False,grid=True.figsize=(20,8))\n",
    "\n",
    "# 绘制直方图(观测 上海房价的售租比)\n",
    "data['sell_rent'].plot.hist(bins=100,color='green',figsize=(20,8))\n"
   ]
  },
  {
   "cell_type": "code",
   "execution_count": null,
   "metadata": {},
   "outputs": [],
   "source": [
    "'''\n",
    "3.上海市人口密度、路网密度、餐饮价格 和 房屋每平米均价 是否有关系呢？(要求)\n",
    "    -- 首先，导出整理好的数据，并qgis中绘制空间格网图，查看房屋每平米均价、房屋每平米租金 以及 售租比空间分布数据。\n",
    "    -- 分别按照格网对人口密度、路网密度、餐饮价格进行指标统计 并 做标准化处理\n",
    "    -- 加载上海中心点point空间数据，计算每个网格到市中心的距离\n",
    "    -- 将空间网格的 房屋每平米均价 按照距市中心的距离排序，并制作散点图，看看能否挖掘出什么信息\n",
    "    提示：\n",
    "        * 导出csv数据，用dataframe.to_csv()\n",
    "        * qgis加载数据后，以 net_population 为格网数据做空间统计\n",
    "        * 注意 qgis 数据都为投影坐标系\n",
    "        * 将以下数据导入python中，标准化得分至 0-1区间，\n",
    "            -- 人口密度指标 (已有 net_population 数据)\n",
    "            -- 路网密度指标 (以格网为空间单元，计算道路长度)\n",
    "            -- 餐饮价格指标 (以格网为空间单元，计算餐饮设施的人均均价数据)\n",
    "        * 导入数据后填充空值为0\n",
    "        * qgis中可以用结果net 数据作为下一个分析数据，将此结果汇总到一张数据表内\n",
    "        * 格网数据在导出前，先转为点数据，并计算经纬度，这里用投影经纬度，好依据中心点坐标计算离市中心距离\n",
    "'''\n",
    "\n",
    "\n",
    "\n"
   ]
  }
 ],
 "metadata": {
  "kernelspec": {
   "display_name": "Python 3",
   "language": "python",
   "name": "python3"
  },
  "language_info": {
   "codemirror_mode": {
    "name": "ipython",
    "version": 3
   },
   "file_extension": ".py",
   "mimetype": "text/x-python",
   "name": "python",
   "nbconvert_exporter": "python",
   "pygments_lexer": "ipython3",
   "version": "3.6.1"
  }
 },
 "nbformat": 4,
 "nbformat_minor": 2
}
