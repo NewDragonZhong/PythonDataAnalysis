{
 "cells": [
  {
   "cell_type": "code",
   "execution_count": 1,
   "metadata": {},
   "outputs": [
    {
     "data": {
      "text/plain": [
       "'\\n【课程3.3.2】KNN邻近分类python实现\\n'"
      ]
     },
     "execution_count": 1,
     "metadata": {},
     "output_type": "execute_result"
    }
   ],
   "source": [
    "'''\n",
    "【课程3.3.2】KNN邻近分类python实现\n",
    "'''"
   ]
  },
  {
   "cell_type": "code",
   "execution_count": 2,
   "metadata": {},
   "outputs": [],
   "source": [
    "import numpy as np\n",
    "import pandas as pd\n",
    "import matplotlib.pyplot as plt\n",
    "%matplotlib inline\n",
    "from sklearn import neighbors #导入KNN分类模块\n",
    "import warnings\n",
    "warnings.filterwarnings('ignore') # 不需要发出警告"
   ]
  },
  {
   "cell_type": "code",
   "execution_count": 38,
   "metadata": {},
   "outputs": [
    {
     "data": {
      "text/plain": [
       "<matplotlib.collections.PathCollection at 0x137ca630>"
      ]
     },
     "execution_count": 38,
     "metadata": {},
     "output_type": "execute_result"
    },
    {
     "data": {
      "image/png": "[encoded data removed]",
      "text/plain": [
       "<Figure size 432x288 with 1 Axes>"
      ]
     },
     "metadata": {},
     "output_type": "display_data"
    }
   ],
   "source": [
    "data = {'name':['北京遇上西雅图','喜欢你','疯狂动物城','战狼2','力王','敢死队'],\n",
    "       'fight':[3,2,1,101,99,98],\n",
    "       'kiss':[104,100,81,10,5,2],\n",
    "       'type':['Romance','Romance','Romance','Action','Action','Action']}\n",
    "df = pd.DataFrame(data)\n",
    "\n",
    "#绘制散点图\n",
    "plt.scatter(df[df['type']=='Romance']['fight'],df[df['type']=='Romance']['kiss'],marker='o',color='r',label='Romance')\n",
    "plt.scatter(df[df['type']=='Action']['fight'],df[df['type']=='Action']['kiss'],marker='o',color='g',label='Action')\n",
    "plt.grid()\n",
    "plt.legend()#显示标签名\n",
    "\n",
    "# 调用邻近分类函数 并 判断新进值\n",
    "knn = neighbors.KNeighborsClassifier()\n",
    "knn.fit(df[['fight','kiss']],df['type'])\n",
    "\n",
    "knn.predict([[18,90]])\n",
    "plt.scatter(18,90,marker='x',color='r',label='Romance')"
   ]
  },
  {
   "cell_type": "code",
   "execution_count": 40,
   "metadata": {},
   "outputs": [
    {
     "data": {
      "text/html": [
       "<div>\n",
       "<style scoped>\n",
       "    .dataframe tbody tr th:only-of-type {\n",
       "        vertical-align: middle;\n",
       "    }\n",
       "\n",
       "    .dataframe tbody tr th {\n",
       "        vertical-align: top;\n",
       "    }\n",
       "\n",
       "    .dataframe thead th {\n",
       "        text-align: right;\n",
       "    }\n",
       "</style>\n",
       "<table border=\"1\" class=\"dataframe\">\n",
       "  <thead>\n",
       "    <tr style=\"text-align: right;\">\n",
       "      <th></th>\n",
       "      <th>fight</th>\n",
       "      <th>kiss</th>\n",
       "      <th>type_t</th>\n",
       "    </tr>\n",
       "  </thead>\n",
       "  <tbody>\n",
       "    <tr>\n",
       "      <th>0</th>\n",
       "      <td>49.811390</td>\n",
       "      <td>46.036285</td>\n",
       "      <td>Action</td>\n",
       "    </tr>\n",
       "    <tr>\n",
       "      <th>1</th>\n",
       "      <td>30.390875</td>\n",
       "      <td>6.392310</td>\n",
       "      <td>Action</td>\n",
       "    </tr>\n",
       "    <tr>\n",
       "      <th>2</th>\n",
       "      <td>33.740802</td>\n",
       "      <td>2.836141</td>\n",
       "      <td>Action</td>\n",
       "    </tr>\n",
       "    <tr>\n",
       "      <th>3</th>\n",
       "      <td>46.124208</td>\n",
       "      <td>17.292806</td>\n",
       "      <td>Action</td>\n",
       "    </tr>\n",
       "    <tr>\n",
       "      <th>4</th>\n",
       "      <td>42.031355</td>\n",
       "      <td>19.237553</td>\n",
       "      <td>Action</td>\n",
       "    </tr>\n",
       "  </tbody>\n",
       "</table>\n",
       "</div>"
      ],
      "text/plain": [
       "       fight       kiss  type_t\n",
       "0  49.811390  46.036285  Action\n",
       "1  30.390875   6.392310  Action\n",
       "2  33.740802   2.836141  Action\n",
       "3  46.124208  17.292806  Action\n",
       "4  42.031355  19.237553  Action"
      ]
     },
     "execution_count": 40,
     "metadata": {},
     "output_type": "execute_result"
    },
    {
     "data": {
      "image/png": "[encoded data removed]",
      "text/plain": [
       "<Figure size 432x288 with 1 Axes>"
      ]
     },
     "metadata": {},
     "output_type": "display_data"
    }
   ],
   "source": [
    "data = pd.DataFrame(np.random.rand(100,2)*50,columns=['fight','kiss'])\n",
    "data['type_t'] = knn.predict(data)\n",
    "\n",
    "\n",
    "#绘制散点图\n",
    "plt.scatter(df[df['type']=='Romance']['fight'],df[df['type']=='Romance']['kiss'],marker='o',color='r',label='Romance')\n",
    "plt.scatter(df[df['type']=='Action']['fight'],df[df['type']=='Action']['kiss'],marker='o',color='g',label='Action')\n",
    "plt.grid()\n",
    "plt.legend()#显示标签名\n",
    "\n",
    "plt.scatter(data[data['type_t']=='Romance']['fight'],data[data['type_t']=='Romance']['kiss'],marker='x',color='r',label='Romance')\n",
    "plt.scatter(data[data['type_t']=='Action']['fight'],data[data['type_t']=='Action']['kiss'],marker='x',color='g',label='Action')\n",
    "\n",
    "data.head()"
   ]
  },
  {
   "cell_type": "code",
   "execution_count": 34,
   "metadata": {},
   "outputs": [
    {
     "name": "stdout",
     "output_type": "stream",
     "text": [
      "['sepal length (cm)', 'sepal width (cm)', 'petal length (cm)', 'petal width (cm)']\n"
     ]
    }
   ],
   "source": [
    "# 网上案例  给花分类\n",
    "# 通过 ['sepal length (cm)', 'sepal width (cm)', 'petal length (cm)', 'petal width (cm)']\n",
    "# 萼片长度 萼片宽度 花瓣长度 花瓣宽度\n",
    "from sklearn import datasets\n",
    "\n",
    "iris = datasets.load_iris()\n",
    "# print(type(iris))\n",
    "\n",
    "knn = neighbors.KNeighborsClassifier()\n",
    "knn.fit(iris['data'],iris['target'])\n",
    "\n",
    "knn.predict([[0.1,0.2,0.3,0.4]])\n",
    "# print(iris.feature_names)"
   ]
  },
  {
   "cell_type": "code",
   "execution_count": null,
   "metadata": {},
   "outputs": [],
   "source": []
  }
 ],
 "metadata": {
  "kernelspec": {
   "display_name": "Python 3",
   "language": "python",
   "name": "python3"
  },
  "language_info": {
   "codemirror_mode": {
    "name": "ipython",
    "version": 3
   },
   "file_extension": ".py",
   "mimetype": "text/x-python",
   "name": "python",
   "nbconvert_exporter": "python",
   "pygments_lexer": "ipython3",
   "version": "3.6.1"
  }
 },
 "nbformat": 4,
 "nbformat_minor": 2
}
