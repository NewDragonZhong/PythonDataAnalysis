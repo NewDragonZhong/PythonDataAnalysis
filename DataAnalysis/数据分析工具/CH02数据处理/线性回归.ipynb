{
 "cells": [
  {
   "cell_type": "code",
   "execution_count": 1,
   "metadata": {},
   "outputs": [
    {
     "data": {
      "text/plain": [
       "'\\n【课程3.2.2】线性回归python实现\\n'"
      ]
     },
     "execution_count": 1,
     "metadata": {},
     "output_type": "execute_result"
    }
   ],
   "source": [
    "'''\n",
    "【课程3.2.2】线性回归python实现\n",
    "'''"
   ]
  },
  {
   "cell_type": "code",
   "execution_count": 2,
   "metadata": {},
   "outputs": [],
   "source": [
    "# 简单线性回归\n",
    "import numpy as np\n",
    "import pandas as pd\n",
    "import matplotlib.pyplot as plt\n",
    "%matplotlib inline\n",
    "from sklearn.linear_model import LinearRegression # 导入线性回归模块"
   ]
  },
  {
   "cell_type": "code",
   "execution_count": 5,
   "metadata": {},
   "outputs": [
    {
     "name": "stdout",
     "output_type": "stream",
     "text": [
      "[4.00448414]\n",
      "8.447659499431023\n"
     ]
    },
    {
     "data": {
      "image/png": "[encoded data removed]",
      "text/plain": [
       "<Figure size 864x216 with 2 Axes>"
      ]
     },
     "metadata": {},
     "output_type": "display_data"
    }
   ],
   "source": [
    "rng = np.random.RandomState(1)\n",
    "xtrain = 10 * rng.rand(30)\n",
    "ytrain = 8 + 4 * xtrain + rng.rand(30)\n",
    "# np.random.RandomState : 随机数种子，只要该种子相同(seed)相同，产生的随机数序列就是相同的。\n",
    "# 样本关系 y = 8+4x\n",
    "fig = plt.figure(figsize=(12,3))\n",
    "ax1 = fig.add_subplot(1,2,1)\n",
    "plt.scatter(xtrain,ytrain,marker='.',color='k')\n",
    "plt.grid()\n",
    "plt.title('样本数据散点图')       #生成散点图\n",
    "\n",
    "# 实例化 LinearRegression() 方法 \n",
    "# 并按照xtrain 和 ytrain 画出 线性图\n",
    "# xtrain[:,np.newaxis] ： 将xtrain由行数据 转为 列数据\n",
    "# .coef_ : 查看直线的斜率\n",
    "# .intercept_: 查看 截距\n",
    "model = LinearRegression()\n",
    "model.fit(xtrain[:,np.newaxis],ytrain)\n",
    "print(model.coef_)\n",
    "print(model.intercept_)\n",
    "\n",
    "# 现在随机给定一些x值 根据已经建好的模型计算出 y值\n",
    "xtest = np.linspace(0,10,1000)\n",
    "ytest = model.predict(xtest[:,np.newaxis])\n",
    "\n",
    "ax2 = fig.add_subplot(1,2,2)\n",
    "plt.scatter(xtrain,ytrain,marker='.',color='k')\n",
    "plt.plot(xtest,ytest,color='r')\n",
    "plt.grid()"
   ]
  },
  {
   "cell_type": "code",
   "execution_count": 8,
   "metadata": {},
   "outputs": [
    {
     "data": {
      "text/plain": [
       "Text(0.5,1,'误差')"
      ]
     },
     "execution_count": 8,
     "metadata": {},
     "output_type": "execute_result"
    },
    {
     "data": {
      "image/png": "[encoded data removed]",
      "text/plain": [
       "<Figure size 432x288 with 1 Axes>"
      ]
     },
     "metadata": {},
     "output_type": "display_data"
    }
   ],
   "source": [
    "# 为了演示出误差值，这里选用8号种子\n",
    "# 创建样本数据并进行拟合\n",
    "rng = np.random.RandomState(8)\n",
    "xtrain = 10 * rng.rand(15)\n",
    "ytrain = 8 + 4 * xtrain + rng.rand(15) *30\n",
    "model.fit(xtrain[:,np.newaxis],ytrain)\n",
    "xtest = np.linspace(0,10,1000)\n",
    "ytest = model.predict(xtest[:,np.newaxis])\n",
    "\n",
    "plt.plot(xtest,ytest,color='r',linestyle='--')# 拟合直线\n",
    "plt.scatter(xtrain,ytrain,marker='.',color='k') # 样本数据散点图\n",
    "ytest2 = model.predict(xtrain[:,np.newaxis])# 计算出样本数据x 在拟合直线上的y值\n",
    "plt.scatter(xtrain,ytest2,marker='x',color='g')#ytest2的散点图\n",
    "plt.plot([xtrain,xtrain],[ytrain,ytest2],color='gray') # 绘制误差线\n",
    "plt.grid()\n",
    "plt.title('误差')"
   ]
  },
  {
   "cell_type": "code",
   "execution_count": 13,
   "metadata": {},
   "outputs": [
    {
     "name": "stdout",
     "output_type": "stream",
     "text": [
      "该直线的斜率为: [ 1.501989    1.99186894 -4.00453124  3.00278851]\n",
      "该直线的截距为:20.53\n",
      "该直线的方程表达为: \n",
      " y = 1.5x1 + 2.0x2 + -4.0x3 +3.0x4 + 20.5\n"
     ]
    }
   ],
   "source": [
    "# 多元线性回归\n",
    "rng = np.random.RandomState(5)\n",
    "xtrain = 10 * rng.rand(150,4)\n",
    "ytrain = 20 + np.dot(xtrain,[1.5,2,-4,3]) + rng.rand(150)\n",
    "df = pd.DataFrame(xtrain,columns=['b1','b2','b3','b4'])\n",
    "df['y'] = ytrain\n",
    "\n",
    "model = LinearRegression()\n",
    "model.fit(df[['b1','b2','b3','b4']],df['y'])\n",
    "print('该直线的斜率为:',model.coef_)\n",
    "print('该直线的截距为:%.2f' % model.intercept_)\n",
    "print('该直线的方程表达为: \\n y = %.1fx1 + %.1fx2 + %.1fx3 +%.1fx4 + %.1f'\n",
    "      % (model.coef_[0],model.coef_[1],model.coef_[2],model.coef_[3],model.intercept_))"
   ]
  },
  {
   "cell_type": "code",
   "execution_count": null,
   "metadata": {},
   "outputs": [],
   "source": []
  }
 ],
 "metadata": {
  "kernelspec": {
   "display_name": "Python 3",
   "language": "python",
   "name": "python3"
  },
  "language_info": {
   "codemirror_mode": {
    "name": "ipython",
    "version": 3
   },
   "file_extension": ".py",
   "mimetype": "text/x-python",
   "name": "python",
   "nbconvert_exporter": "python",
   "pygments_lexer": "ipython3",
   "version": "3.6.1"
  }
 },
 "nbformat": 4,
 "nbformat_minor": 2
}
