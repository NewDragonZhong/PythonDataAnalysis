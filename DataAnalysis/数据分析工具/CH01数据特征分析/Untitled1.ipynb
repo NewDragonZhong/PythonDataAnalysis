{
 "cells": [
  {
   "cell_type": "code",
   "execution_count": 16,
   "metadata": {},
   "outputs": [],
   "source": [
    "# -*- coding:utf8 -*-\n",
    "import numpy as np\n",
    "import pandas as pd\n",
    "import matplotlib.pyplot as plt\n",
    "%matplotlib inline"
   ]
  },
  {
   "cell_type": "code",
   "execution_count": 17,
   "metadata": {},
   "outputs": [
    {
     "name": "stdout",
     "output_type": "stream",
     "text": [
      "   value         f\n",
      "0    114  0.005058\n",
      "1    112  0.011196\n",
      "2    115  0.007427\n",
      "3    107  0.006930\n",
      "4    112  0.000181\n",
      "109.05\n"
     ]
    }
   ],
   "source": [
    "data = pd.DataFrame({'value': np.random.randint(100,120,100),'f':np.random.rand(100)})\n",
    "data['f'] = data['f'] / data['f'].sum()\n",
    "print(data.head())\n",
    "\n",
    "mean = data['value'].mean()\n",
    "mean_w = (data['value'] * data['f']).sum() / data['f'].sum()\n",
    "print(mean)"
   ]
  },
  {
   "cell_type": "code",
   "execution_count": 18,
   "metadata": {},
   "outputs": [
    {
     "data": {
      "text/plain": [
       "Text(114.05,0.01,'加权算数平均值：108.49')"
      ]
     },
     "execution_count": 18,
     "metadata": {},
     "output_type": "execute_result"
    },
    {
     "data": {
      "image/png": "[encoded data removed]",
      "text/plain": [
       "<Figure size 432x288 with 1 Axes>"
      ]
     },
     "metadata": {},
     "output_type": "display_data"
    }
   ],
   "source": [
    "data['value'].plot(kind='kde',style='--k',grid=True)\n",
    "\n",
    "plt.axvline(mean,hold=None,color='r',linestyle=\"--\",alpha=0.8)  \n",
    "plt.text(mean + 5,0.005,'简单算数平均值为：%.2f' % mean, color = 'r')\n",
    "# 简单算数平均值\n",
    "\n",
    "plt.axvline(mean_w,hold=None,color='b',linestyle=\"--\",alpha=0.8)  \n",
    "plt.text(mean + 5,0.01,'加权算数平均值：%.2f' % mean_w, color = 'b')\n",
    "# 加权算数平均值"
   ]
  },
  {
   "cell_type": "code",
   "execution_count": 15,
   "metadata": {},
   "outputs": [
    {
     "name": "stdout",
     "output_type": "stream",
     "text": [
      "A    3435.360870\n",
      "B    2076.467513\n",
      "C    3572.204892\n",
      "D    3249.770165\n",
      "E    3168.356353\n",
      "F    4914.030749\n",
      "G    5101.656676\n",
      "H    3377.316607\n",
      "I    3150.720397\n",
      "J    3218.719094\n",
      "dtype: float64\n",
      "------\n",
      "G    5101.656676\n",
      "F    4914.030749\n",
      "C    3572.204892\n",
      "A    3435.360870\n",
      "H    3377.316607\n",
      "D    3249.770165\n",
      "J    3218.719094\n",
      "E    3168.356353\n",
      "I    3150.720397\n",
      "B    2076.467513\n",
      "dtype: float64\n",
      "G    0.144668\n",
      "F    0.284015\n",
      "C    0.385312\n",
      "A    0.482729\n",
      "H    0.578500\n",
      "D    0.670654\n",
      "J    0.761927\n",
      "E    0.851772\n",
      "I    0.941118\n",
      "B    1.000000\n",
      "dtype: float64 <class 'pandas.core.series.Series'>\n"
     ]
    },
    {
     "data": {
      "image/png": "[encoded data removed]",
      "text/plain": [
       "<Figure size 720x288 with 1 Axes>"
      ]
     },
     "metadata": {},
     "output_type": "display_data"
    }
   ],
   "source": [
    "# 帕累托分布分析 \n",
    "\n",
    "data = pd.Series(np.random.randn(10)*1200+3000,\n",
    "                index = list('ABCDEFGHIJ'))\n",
    "print(data)\n",
    "print('------')\n",
    "# 创建数据，10个品类产品的销售额\n",
    "\n",
    "data.sort_values(ascending=False, inplace= True)\n",
    "print(data)\n",
    "# 由大到小排列\n",
    "\n",
    "plt.figure(figsize = (10,4))\n",
    "data.plot(kind = 'bar', color = 'g', alpha = 0.5, width = 0.7)  \n",
    "plt.ylabel('营收_元')\n",
    "# 创建营收柱状图\n",
    "\n",
    "p = data.cumsum() / data.sum()\n",
    "print(p,type(p))"
   ]
  },
  {
   "cell_type": "code",
   "execution_count": null,
   "metadata": {},
   "outputs": [],
   "source": []
  }
 ],
 "metadata": {
  "kernelspec": {
   "display_name": "Python 3",
   "language": "python",
   "name": "python3"
  },
  "language_info": {
   "codemirror_mode": {
    "name": "ipython",
    "version": 3
   },
   "file_extension": ".py",
   "mimetype": "text/x-python",
   "name": "python",
   "nbconvert_exporter": "python",
   "pygments_lexer": "ipython3",
   "version": "3.6.1"
  }
 },
 "nbformat": 4,
 "nbformat_minor": 2
}
